{
 "cells": [
  {
   "cell_type": "code",
   "execution_count": 1,
   "metadata": {},
   "outputs": [
    {
     "name": "stderr",
     "output_type": "stream",
     "text": [
      "/Library/Frameworks/Python.framework/Versions/3.6/lib/python3.6/site-packages/h5py/__init__.py:36: FutureWarning: Conversion of the second argument of issubdtype from `float` to `np.floating` is deprecated. In future, it will be treated as `np.float64 == np.dtype(float).type`.\n",
      "  from ._conv import register_converters as _register_converters\n"
     ]
    }
   ],
   "source": [
    "# -*- coding: utf8 -*-\n",
    "import numpy as np\n",
    "import collections\n",
    "import tensorflow as tf\n",
    "import json"
   ]
  },
  {
   "cell_type": "code",
   "execution_count": 2,
   "metadata": {},
   "outputs": [],
   "source": [
    "with open('./data/modified/int_word.json', 'r') as f:\n",
    "    int_word = json.load(f)\n",
    "with open('./data/modified/word_int.json', 'r') as f:\n",
    "    word_int = json.load(f)\n",
    "with open('./data/modified/trans_poems.json', 'r') as f:\n",
    "    trans_poems = np.asarray(json.load(f))\n",
    "vocab_size = len(int_word)\n",
    "sequence_len = np.average([len(p) for p in trans_poems])"
   ]
  },
  {
   "cell_type": "code",
   "execution_count": 94,
   "metadata": {},
   "outputs": [
    {
     "name": "stdout",
     "output_type": "stream",
     "text": [
      "167\n"
     ]
    }
   ],
   "source": [
    "batch_size = 256\n",
    "epochs = 20\n",
    "batch_num = len(trans_poems) // batch_size\n",
    "capacity=50000\n",
    "min_after_dequeue=10000\n",
    "print(batch_num)"
   ]
  },
  {
   "cell_type": "code",
   "execution_count": 95,
   "metadata": {},
   "outputs": [],
   "source": [
    "tf.reset_default_graph()\n",
    "trans_poems = np.asarray(trans_poems).astype(np.int32)\n",
    "poem_queue = tf.train.slice_input_producer([trans_poems], shuffle=False)\n",
    "get_batch = tf.train.shuffle_batch(poem_queue, batch_size, capacity, min_after_dequeue, num_threads=4, seed=345)\n",
    "getX = tf.slice(get_batch, [0, 0] ,[batch_size, int(sequence_len - 1)])\n",
    "getY = tf.slice(get_batch, [0, 1] ,[batch_size, int(sequence_len - 1)])"
   ]
  },
  {
   "cell_type": "code",
   "execution_count": 96,
   "metadata": {},
   "outputs": [],
   "source": [
    "embed_size = 128\n",
    "rnn_cell_num = 2\n",
    "rnn_cell_size = 100\n",
    "learning_rate = 0.001"
   ]
  },
  {
   "cell_type": "code",
   "execution_count": 97,
   "metadata": {},
   "outputs": [],
   "source": [
    "def build_model(getX):\n",
    "    with tf.variable_scope('embedding', reuse=tf.AUTO_REUSE):\n",
    "        embedding_matrix = tf.get_variable('embedding_matrix', shape=[vocab_size, embed_size],\n",
    "                                           initializer=tf.random_uniform_initializer(-1, 1, seed=123))\n",
    "        embedding = tf.nn.embedding_lookup(embedding_matrix, getX)\n",
    "        tf.summary.histogram('embed', embedding_matrix)\n",
    "    with tf.variable_scope('rnn', reuse=tf.AUTO_REUSE):\n",
    "        lstms = tf.contrib.rnn.MultiRNNCell(\n",
    "            [tf.contrib.rnn.LSTMCell(rnn_cell_size, tf.random_uniform_initializer(-1, 1, seed=456)) \n",
    "             for _ in range(rnn_cell_num)])\n",
    "        init_states = lstms.zero_state(np.shape(getX)[0], dtype=tf.float32)\n",
    "        outputs, states = tf.nn.dynamic_rnn(lstms, embedding, dtype=tf.float32, initial_state=init_states)\n",
    "        tf.summary.histogram('rnn_cell_state', states)\n",
    "    with tf.variable_scope('loss', reuse=tf.AUTO_REUSE):\n",
    "        w = tf.get_variable('w', shape=[rnn_cell_size, vocab_size], \n",
    "                           initializer=tf.random_uniform_initializer(-1, 1, seed=234))\n",
    "        b = tf.get_variable('b', shape=[vocab_size], \n",
    "                           initializer=tf.zeros_initializer())\n",
    "        tf.summary.histogram('w', w)\n",
    "        tf.summary.histogram('b', b)\n",
    "        _outputs = tf.reshape(outputs, [-1, rnn_cell_size])\n",
    "        logits = tf.matmul(_outputs, w) + b\n",
    "        return logits, init_states, states"
   ]
  },
  {
   "cell_type": "code",
   "execution_count": 98,
   "metadata": {},
   "outputs": [],
   "source": [
    "logits, _, _ = build_model(getX)\n",
    "with tf.variable_scope('loss', reuse=tf.AUTO_REUSE):\n",
    "    _getY = tf.reshape(getY, [-1, 1])\n",
    "    loss = tf.reduce_mean(\n",
    "        tf.contrib.legacy_seq2seq.sequence_loss_by_example(\n",
    "            [logits], [_getY], [tf.ones_like([_getY], dtype=tf.float32)], vocab_size))\n",
    "    tf.summary.scalar('loss', loss)\n",
    "    \n",
    "with tf.variable_scope('train_op', reuse=tf.AUTO_REUSE):\n",
    "    optimizer = tf.train.GradientDescentOptimizer(learning_rate)\n",
    "    tvars = tf.trainable_variables()\n",
    "    grads, _ = tf.clip_by_global_norm(tf.gradients(loss, tvars), 5)\n",
    "    global_step = tf.Variable(0, trainable=False, name='global_step', dtype=tf.int32)\n",
    "    train_op = optimizer.apply_gradients(zip(grads, tvars), global_step=global_step)\n",
    "    \n",
    "merged_summary_op = tf.summary.merge_all()"
   ]
  },
  {
   "cell_type": "code",
   "execution_count": 99,
   "metadata": {},
   "outputs": [
    {
     "name": "stdout",
     "output_type": "stream",
     "text": [
      "INFO:tensorflow:Restoring parameters from ./checkpoints/poem-1750\n",
      "Restored:  ./checkpoints/poem-1750\n",
      "Epoch 0 Batch 0 Iter 0 Loss 1.72725510597229\n",
      "Epoch 0 Batch 1 Iter 1 Loss 1.6497809886932373\n",
      "Epoch 0 Batch 2 Iter 2 Loss 1.6591544151306152\n",
      "Epoch 0 Batch 3 Iter 3 Loss 1.6023144721984863\n",
      "Epoch 0 Batch 4 Iter 4 Loss 1.6554136276245117\n",
      "Epoch 0 Batch 5 Iter 5 Loss 1.6578608751296997\n",
      "Epoch 0 Batch 6 Iter 6 Loss 1.60295832157135\n",
      "Epoch 0 Batch 7 Iter 7 Loss 1.6686408519744873\n",
      "Epoch 0 Batch 8 Iter 8 Loss 1.5949310064315796\n",
      "Epoch 0 Batch 9 Iter 9 Loss 1.6345000267028809\n",
      "Epoch 0 Batch 10 Iter 10 Loss 1.6360524892807007\n",
      "Epoch 0 Batch 11 Iter 11 Loss 1.6488592624664307\n",
      "Epoch 0 Batch 12 Iter 12 Loss 1.5931370258331299\n",
      "Epoch 0 Batch 13 Iter 13 Loss 1.6855632066726685\n",
      "Epoch 0 Batch 14 Iter 14 Loss 1.6566179990768433\n",
      "Epoch 0 Batch 15 Iter 15 Loss 1.6231762170791626\n",
      "Epoch 0 Batch 16 Iter 16 Loss 1.6247591972351074\n",
      "Epoch 0 Batch 17 Iter 17 Loss 1.6196705102920532\n",
      "Epoch 0 Batch 18 Iter 18 Loss 1.562110424041748\n",
      "Epoch 0 Batch 19 Iter 19 Loss 1.646562099456787\n",
      "Epoch 0 Batch 20 Iter 20 Loss 1.6717073917388916\n",
      "Epoch 0 Batch 21 Iter 21 Loss 1.6893043518066406\n",
      "Epoch 0 Batch 22 Iter 22 Loss 1.6769349575042725\n",
      "Epoch 0 Batch 23 Iter 23 Loss 1.7168841361999512\n",
      "Epoch 0 Batch 24 Iter 24 Loss 1.6158286333084106\n",
      "Epoch 0 Batch 25 Iter 25 Loss 1.65813410282135\n",
      "Epoch 0 Batch 26 Iter 26 Loss 1.660344123840332\n",
      "Epoch 0 Batch 27 Iter 27 Loss 1.677208423614502\n",
      "Epoch 0 Batch 28 Iter 28 Loss 1.6730475425720215\n",
      "Epoch 0 Batch 29 Iter 29 Loss 1.659257411956787\n",
      "Epoch 0 Batch 30 Iter 30 Loss 1.7381134033203125\n",
      "Epoch 0 Batch 31 Iter 31 Loss 1.70673668384552\n",
      "Epoch 0 Batch 32 Iter 32 Loss 1.7190662622451782\n",
      "Epoch 0 Batch 33 Iter 33 Loss 1.7111234664916992\n",
      "Epoch 0 Batch 34 Iter 34 Loss 1.6706830263137817\n",
      "Epoch 0 Batch 35 Iter 35 Loss 1.7003767490386963\n",
      "Epoch 0 Batch 36 Iter 36 Loss 1.6764219999313354\n",
      "Epoch 0 Batch 37 Iter 37 Loss 1.734032154083252\n",
      "Epoch 0 Batch 38 Iter 38 Loss 1.7046536207199097\n",
      "Epoch 0 Batch 39 Iter 39 Loss 1.7172925472259521\n",
      "Epoch 0 Batch 40 Iter 40 Loss 1.6322522163391113\n",
      "Epoch 0 Batch 41 Iter 41 Loss 1.7572028636932373\n",
      "Epoch 0 Batch 42 Iter 42 Loss 1.6847659349441528\n",
      "Epoch 0 Batch 43 Iter 43 Loss 1.7379659414291382\n",
      "Epoch 0 Batch 44 Iter 44 Loss 1.664782166481018\n",
      "Epoch 0 Batch 45 Iter 45 Loss 1.7688530683517456\n",
      "Epoch 0 Batch 46 Iter 46 Loss 1.6709351539611816\n",
      "Epoch 0 Batch 47 Iter 47 Loss 1.7213114500045776\n",
      "Epoch 0 Batch 48 Iter 48 Loss 1.7364805936813354\n",
      "Epoch 0 Batch 49 Iter 49 Loss 1.657926082611084\n",
      "Epoch 0 Batch 50 Iter 50 Loss 1.7906097173690796\n",
      "Epoch 0 Batch 51 Iter 51 Loss 1.7505680322647095\n",
      "Epoch 0 Batch 52 Iter 52 Loss 1.7044776678085327\n",
      "Epoch 0 Batch 53 Iter 53 Loss 1.6707756519317627\n",
      "Epoch 0 Batch 54 Iter 54 Loss 1.670766830444336\n"
     ]
    },
    {
     "ename": "KeyboardInterrupt",
     "evalue": "",
     "output_type": "error",
     "traceback": [
      "\u001b[0;31m---------------------------------------------------------------------------\u001b[0m",
      "\u001b[0;31mKeyboardInterrupt\u001b[0m                         Traceback (most recent call last)",
      "\u001b[0;32m<ipython-input-99-2ae7693f2f13>\u001b[0m in \u001b[0;36m<module>\u001b[0;34m()\u001b[0m\n\u001b[1;32m     13\u001b[0m             \u001b[0;32mfor\u001b[0m \u001b[0me\u001b[0m \u001b[0;32min\u001b[0m \u001b[0mrange\u001b[0m\u001b[0;34m(\u001b[0m\u001b[0mepochs\u001b[0m\u001b[0;34m)\u001b[0m\u001b[0;34m:\u001b[0m\u001b[0;34m\u001b[0m\u001b[0m\n\u001b[1;32m     14\u001b[0m                 \u001b[0;32mfor\u001b[0m \u001b[0mi\u001b[0m \u001b[0;32min\u001b[0m \u001b[0mrange\u001b[0m\u001b[0;34m(\u001b[0m\u001b[0mbatch_num\u001b[0m\u001b[0;34m)\u001b[0m\u001b[0;34m:\u001b[0m\u001b[0;34m\u001b[0m\u001b[0m\n\u001b[0;32m---> 15\u001b[0;31m                     \u001b[0m_\u001b[0m\u001b[0;34m,\u001b[0m \u001b[0mcost\u001b[0m\u001b[0;34m,\u001b[0m \u001b[0msummary\u001b[0m\u001b[0;34m,\u001b[0m \u001b[0mg_step\u001b[0m \u001b[0;34m=\u001b[0m \u001b[0msess\u001b[0m\u001b[0;34m.\u001b[0m\u001b[0mrun\u001b[0m\u001b[0;34m(\u001b[0m\u001b[0;34m[\u001b[0m\u001b[0mtrain_op\u001b[0m\u001b[0;34m,\u001b[0m \u001b[0mloss\u001b[0m\u001b[0;34m,\u001b[0m \u001b[0mmerged_summary_op\u001b[0m\u001b[0;34m,\u001b[0m \u001b[0mglobal_step\u001b[0m\u001b[0;34m]\u001b[0m\u001b[0;34m)\u001b[0m\u001b[0;34m\u001b[0m\u001b[0m\n\u001b[0m\u001b[1;32m     16\u001b[0m                     \u001b[0mprint\u001b[0m\u001b[0;34m(\u001b[0m\u001b[0;34m'Epoch {} Batch {} Iter {} Loss {}'\u001b[0m\u001b[0;34m.\u001b[0m\u001b[0mformat\u001b[0m\u001b[0;34m(\u001b[0m\u001b[0me\u001b[0m\u001b[0;34m,\u001b[0m \u001b[0mi\u001b[0m\u001b[0;34m,\u001b[0m \u001b[0me\u001b[0m\u001b[0;34m*\u001b[0m\u001b[0mbatch_num\u001b[0m \u001b[0;34m+\u001b[0m \u001b[0mi\u001b[0m\u001b[0;34m,\u001b[0m \u001b[0mcost\u001b[0m\u001b[0;34m)\u001b[0m\u001b[0;34m)\u001b[0m\u001b[0;34m\u001b[0m\u001b[0m\n\u001b[1;32m     17\u001b[0m                     \u001b[0msummary_writer\u001b[0m\u001b[0;34m.\u001b[0m\u001b[0madd_summary\u001b[0m\u001b[0;34m(\u001b[0m\u001b[0msummary\u001b[0m\u001b[0;34m,\u001b[0m \u001b[0mg_step\u001b[0m\u001b[0;34m)\u001b[0m\u001b[0;34m\u001b[0m\u001b[0m\n",
      "\u001b[0;32m/Library/Frameworks/Python.framework/Versions/3.6/lib/python3.6/site-packages/tensorflow/python/client/session.py\u001b[0m in \u001b[0;36mrun\u001b[0;34m(self, fetches, feed_dict, options, run_metadata)\u001b[0m\n\u001b[1;32m    903\u001b[0m     \u001b[0;32mtry\u001b[0m\u001b[0;34m:\u001b[0m\u001b[0;34m\u001b[0m\u001b[0m\n\u001b[1;32m    904\u001b[0m       result = self._run(None, fetches, feed_dict, options_ptr,\n\u001b[0;32m--> 905\u001b[0;31m                          run_metadata_ptr)\n\u001b[0m\u001b[1;32m    906\u001b[0m       \u001b[0;32mif\u001b[0m \u001b[0mrun_metadata\u001b[0m\u001b[0;34m:\u001b[0m\u001b[0;34m\u001b[0m\u001b[0m\n\u001b[1;32m    907\u001b[0m         \u001b[0mproto_data\u001b[0m \u001b[0;34m=\u001b[0m \u001b[0mtf_session\u001b[0m\u001b[0;34m.\u001b[0m\u001b[0mTF_GetBuffer\u001b[0m\u001b[0;34m(\u001b[0m\u001b[0mrun_metadata_ptr\u001b[0m\u001b[0;34m)\u001b[0m\u001b[0;34m\u001b[0m\u001b[0m\n",
      "\u001b[0;32m/Library/Frameworks/Python.framework/Versions/3.6/lib/python3.6/site-packages/tensorflow/python/client/session.py\u001b[0m in \u001b[0;36m_run\u001b[0;34m(self, handle, fetches, feed_dict, options, run_metadata)\u001b[0m\n\u001b[1;32m   1135\u001b[0m     \u001b[0;32mif\u001b[0m \u001b[0mfinal_fetches\u001b[0m \u001b[0;32mor\u001b[0m \u001b[0mfinal_targets\u001b[0m \u001b[0;32mor\u001b[0m \u001b[0;34m(\u001b[0m\u001b[0mhandle\u001b[0m \u001b[0;32mand\u001b[0m \u001b[0mfeed_dict_tensor\u001b[0m\u001b[0;34m)\u001b[0m\u001b[0;34m:\u001b[0m\u001b[0;34m\u001b[0m\u001b[0m\n\u001b[1;32m   1136\u001b[0m       results = self._do_run(handle, final_targets, final_fetches,\n\u001b[0;32m-> 1137\u001b[0;31m                              feed_dict_tensor, options, run_metadata)\n\u001b[0m\u001b[1;32m   1138\u001b[0m     \u001b[0;32melse\u001b[0m\u001b[0;34m:\u001b[0m\u001b[0;34m\u001b[0m\u001b[0m\n\u001b[1;32m   1139\u001b[0m       \u001b[0mresults\u001b[0m \u001b[0;34m=\u001b[0m \u001b[0;34m[\u001b[0m\u001b[0;34m]\u001b[0m\u001b[0;34m\u001b[0m\u001b[0m\n",
      "\u001b[0;32m/Library/Frameworks/Python.framework/Versions/3.6/lib/python3.6/site-packages/tensorflow/python/client/session.py\u001b[0m in \u001b[0;36m_do_run\u001b[0;34m(self, handle, target_list, fetch_list, feed_dict, options, run_metadata)\u001b[0m\n\u001b[1;32m   1353\u001b[0m     \u001b[0;32mif\u001b[0m \u001b[0mhandle\u001b[0m \u001b[0;32mis\u001b[0m \u001b[0;32mNone\u001b[0m\u001b[0;34m:\u001b[0m\u001b[0;34m\u001b[0m\u001b[0m\n\u001b[1;32m   1354\u001b[0m       return self._do_call(_run_fn, self._session, feeds, fetches, targets,\n\u001b[0;32m-> 1355\u001b[0;31m                            options, run_metadata)\n\u001b[0m\u001b[1;32m   1356\u001b[0m     \u001b[0;32melse\u001b[0m\u001b[0;34m:\u001b[0m\u001b[0;34m\u001b[0m\u001b[0m\n\u001b[1;32m   1357\u001b[0m       \u001b[0;32mreturn\u001b[0m \u001b[0mself\u001b[0m\u001b[0;34m.\u001b[0m\u001b[0m_do_call\u001b[0m\u001b[0;34m(\u001b[0m\u001b[0m_prun_fn\u001b[0m\u001b[0;34m,\u001b[0m \u001b[0mself\u001b[0m\u001b[0;34m.\u001b[0m\u001b[0m_session\u001b[0m\u001b[0;34m,\u001b[0m \u001b[0mhandle\u001b[0m\u001b[0;34m,\u001b[0m \u001b[0mfeeds\u001b[0m\u001b[0;34m,\u001b[0m \u001b[0mfetches\u001b[0m\u001b[0;34m)\u001b[0m\u001b[0;34m\u001b[0m\u001b[0m\n",
      "\u001b[0;32m/Library/Frameworks/Python.framework/Versions/3.6/lib/python3.6/site-packages/tensorflow/python/client/session.py\u001b[0m in \u001b[0;36m_do_call\u001b[0;34m(self, fn, *args)\u001b[0m\n\u001b[1;32m   1359\u001b[0m   \u001b[0;32mdef\u001b[0m \u001b[0m_do_call\u001b[0m\u001b[0;34m(\u001b[0m\u001b[0mself\u001b[0m\u001b[0;34m,\u001b[0m \u001b[0mfn\u001b[0m\u001b[0;34m,\u001b[0m \u001b[0;34m*\u001b[0m\u001b[0margs\u001b[0m\u001b[0;34m)\u001b[0m\u001b[0;34m:\u001b[0m\u001b[0;34m\u001b[0m\u001b[0m\n\u001b[1;32m   1360\u001b[0m     \u001b[0;32mtry\u001b[0m\u001b[0;34m:\u001b[0m\u001b[0;34m\u001b[0m\u001b[0m\n\u001b[0;32m-> 1361\u001b[0;31m       \u001b[0;32mreturn\u001b[0m \u001b[0mfn\u001b[0m\u001b[0;34m(\u001b[0m\u001b[0;34m*\u001b[0m\u001b[0margs\u001b[0m\u001b[0;34m)\u001b[0m\u001b[0;34m\u001b[0m\u001b[0m\n\u001b[0m\u001b[1;32m   1362\u001b[0m     \u001b[0;32mexcept\u001b[0m \u001b[0merrors\u001b[0m\u001b[0;34m.\u001b[0m\u001b[0mOpError\u001b[0m \u001b[0;32mas\u001b[0m \u001b[0me\u001b[0m\u001b[0;34m:\u001b[0m\u001b[0;34m\u001b[0m\u001b[0m\n\u001b[1;32m   1363\u001b[0m       \u001b[0mmessage\u001b[0m \u001b[0;34m=\u001b[0m \u001b[0mcompat\u001b[0m\u001b[0;34m.\u001b[0m\u001b[0mas_text\u001b[0m\u001b[0;34m(\u001b[0m\u001b[0me\u001b[0m\u001b[0;34m.\u001b[0m\u001b[0mmessage\u001b[0m\u001b[0;34m)\u001b[0m\u001b[0;34m\u001b[0m\u001b[0m\n",
      "\u001b[0;32m/Library/Frameworks/Python.framework/Versions/3.6/lib/python3.6/site-packages/tensorflow/python/client/session.py\u001b[0m in \u001b[0;36m_run_fn\u001b[0;34m(session, feed_dict, fetch_list, target_list, options, run_metadata)\u001b[0m\n\u001b[1;32m   1338\u001b[0m         \u001b[0;32melse\u001b[0m\u001b[0;34m:\u001b[0m\u001b[0;34m\u001b[0m\u001b[0m\n\u001b[1;32m   1339\u001b[0m           return tf_session.TF_Run(session, options, feed_dict, fetch_list,\n\u001b[0;32m-> 1340\u001b[0;31m                                    target_list, status, run_metadata)\n\u001b[0m\u001b[1;32m   1341\u001b[0m \u001b[0;34m\u001b[0m\u001b[0m\n\u001b[1;32m   1342\u001b[0m     \u001b[0;32mdef\u001b[0m \u001b[0m_prun_fn\u001b[0m\u001b[0;34m(\u001b[0m\u001b[0msession\u001b[0m\u001b[0;34m,\u001b[0m \u001b[0mhandle\u001b[0m\u001b[0;34m,\u001b[0m \u001b[0mfeed_dict\u001b[0m\u001b[0;34m,\u001b[0m \u001b[0mfetch_list\u001b[0m\u001b[0;34m)\u001b[0m\u001b[0;34m:\u001b[0m\u001b[0;34m\u001b[0m\u001b[0m\n",
      "\u001b[0;31mKeyboardInterrupt\u001b[0m: "
     ]
    }
   ],
   "source": [
    "with tf.Session() as sess:\n",
    "    sess.run(tf.global_variables_initializer())\n",
    "    summary_writer = tf.summary.FileWriter('./logs/', sess.graph)\n",
    "    saver = tf.train.Saver()\n",
    "    checkpoint = tf.train.get_checkpoint_state('./checkpoints/')\n",
    "    if checkpoint and checkpoint.model_checkpoint_path:\n",
    "        saver.restore(sess, checkpoint.model_checkpoint_path)\n",
    "        print('Restored: ', checkpoint.model_checkpoint_path)\n",
    "    coord = tf.train.Coordinator()\n",
    "    threads = tf.train.start_queue_runners(sess, coord)\n",
    "    try:\n",
    "        while not coord.should_stop():\n",
    "            for e in range(epochs):\n",
    "                for i in range(batch_num):\n",
    "                    _, cost, summary, g_step = sess.run([train_op, loss, merged_summary_op, global_step])\n",
    "                    print('Epoch {} Batch {} Iter {} Loss {}'.format(e, i, e*batch_num + i, cost))\n",
    "                    summary_writer.add_summary(summary, g_step)\n",
    "                    if g_step % 10 == 0:\n",
    "                        saver.save(sess, './checkpoints/poem', global_step=g_step)\n",
    "    except tf.errors.OutOfRangeError:\n",
    "        print('done!')\n",
    "    finally:\n",
    "        coord.request_stop()\n",
    "        coord.join(threads)\n",
    "    summary_writer.close()"
   ]
  },
  {
   "cell_type": "code",
   "execution_count": 78,
   "metadata": {},
   "outputs": [],
   "source": [
    "tf.reset_default_graph()\n",
    "test_X = tf.placeholder(tf.int32, shape=[1, 1], name='X_for_test')\n",
    "test_logits, test_init_state, test_state = build_model(test_X)\n",
    "test_prob = tf.nn.softmax(test_logits)"
   ]
  },
  {
   "cell_type": "code",
   "execution_count": 79,
   "metadata": {},
   "outputs": [],
   "source": [
    "def get_word(probs):\n",
    "    a = np.cumsum(probs)\n",
    "    s = np.sum(probs)\n",
    "    b = np.random.rand(1)\n",
    "    idx = int(np.searchsorted(a, b))\n",
    "    return idx, int_word.get(str(idx))"
   ]
  },
  {
   "cell_type": "code",
   "execution_count": 82,
   "metadata": {},
   "outputs": [
    {
     "name": "stdout",
     "output_type": "stream",
     "text": [
      "INFO:tensorflow:Restoring parameters from ./checkpoints/poem-1750\n",
      "常听王家镇，崇才助兄词。海仇横建代，弦甲九成成。雨雁归云里，舟冲送客泉。希方论病素，永哲盛闲论。\n"
     ]
    }
   ],
   "source": [
    "with tf.Session() as sess:\n",
    "    sess.run(tf.global_variables_initializer())\n",
    "    saver = tf.train.Saver()\n",
    "    checkpoint = tf.train.get_checkpoint_state('./checkpoints/')\n",
    "    if checkpoint and checkpoint.model_checkpoint_path:\n",
    "        saver.restore(sess, checkpoint.model_checkpoint_path)\n",
    "    else:\n",
    "        print('No checkpoint found!')\n",
    "    idx = 0 # 以 [ 开头\n",
    "    p, t_state = sess.run([test_prob, test_state], {test_X: [[idx]]})\n",
    "    idx, word = get_word(p)\n",
    "    poem = word\n",
    "    while word != ']' and word != '_': #\n",
    "        p, t_state = sess.run([test_prob, test_state], {test_X: [[idx]], test_init_state: t_state})\n",
    "        idx, word = get_word(p)\n",
    "        poem += word\n",
    "    print(poem[:-1])      "
   ]
  },
  {
   "cell_type": "code",
   "execution_count": null,
   "metadata": {},
   "outputs": [],
   "source": []
  },
  {
   "cell_type": "code",
   "execution_count": null,
   "metadata": {},
   "outputs": [],
   "source": []
  }
 ],
 "metadata": {
  "kernelspec": {
   "display_name": "Python 3",
   "language": "python",
   "name": "python3"
  },
  "language_info": {
   "codemirror_mode": {
    "name": "ipython",
    "version": 3
   },
   "file_extension": ".py",
   "mimetype": "text/x-python",
   "name": "python",
   "nbconvert_exporter": "python",
   "pygments_lexer": "ipython3",
   "version": "3.6.4"
  }
 },
 "nbformat": 4,
 "nbformat_minor": 2
}
