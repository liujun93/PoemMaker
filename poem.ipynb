{
 "cells": [
  {
   "cell_type": "code",
   "execution_count": 1,
   "metadata": {},
   "outputs": [
    {
     "name": "stderr",
     "output_type": "stream",
     "text": [
      "/Library/Frameworks/Python.framework/Versions/3.6/lib/python3.6/site-packages/h5py/__init__.py:36: FutureWarning: Conversion of the second argument of issubdtype from `float` to `np.floating` is deprecated. In future, it will be treated as `np.float64 == np.dtype(float).type`.\n",
      "  from ._conv import register_converters as _register_converters\n"
     ]
    }
   ],
   "source": [
    "# -*- coding: utf8 -*-\n",
    "import numpy as np\n",
    "import collections\n",
    "import tensorflow as tf"
   ]
  },
  {
   "cell_type": "code",
   "execution_count": 2,
   "metadata": {},
   "outputs": [
    {
     "name": "stdout",
     "output_type": "stream",
     "text": [
      "['秦川雄帝宅，函谷壮皇居。绮殿千寻起，离宫百雉馀。连薨遥接汉，飞观迥凌虚。云日隐层阙，风烟出绮疏。岩廊罢机务，崇文聊驻辇。玉匣启龙图，金绳披凤篆。韦编断仍续，缥帙舒还卷。对此乃淹留，欹案观坟典。移步出词林，停舆欣武宴。雕弓写明月，骏马疑流电。惊雁落虚弦，啼猿悲急箭。阅赏诚多美，于兹乃忘倦。鸣笳临乐馆，眺听欢芳节。急管韵朱弦，清歌凝白雪。彩凤肃来仪，玄鹤纷成列。去兹郑卫声，雅音方可悦。芳辰追逸趣，禁苑信多奇。桥形通汉上，峰势接云危。烟霞交隐映，花鸟自参差。何如肆辙迹，万里赏瑶池。飞盖去芳园，兰桡游翠渚。萍间日彩乱，荷处香风举。桂楫满中川，弦歌振长屿。岂必汾河曲，方为欢宴所。落日双阙昏，回舆九重暮。长烟散初碧，皎月澄轻素。搴幌玩琴书，开轩引云雾。斜汉耿层阁，清风摇玉树。欢乐难再逢，芳辰良可惜。玉酒泛云罍，兰殽陈绮席。千钟合尧禹，百兽谐金石。得志重寸阴，忘怀轻尺璧。建章欢赏夕，二八尽妖妍。罗绮昭阳殿，芬芳玳瑁筵。佩移星正动，扇掩月初圆。无劳上悬圃，即此对神仙。以兹游观极，悠然独长想。披卷览前踪，抚躬寻既往。望古茅茨约，瞻今兰殿广。人道恶高危，虚心戒盈荡。奉天竭诚敬，临民思惠养。纳善察忠谏，明科慎刑赏。六五诚难继，四三非易仰。广待淳化敷，方嗣云亭响。', '塞外悲风切，交河冰已结。瀚海百重波，阴山千里雪。迥戍危烽火，层峦引高节。悠悠卷旆旌，饮马出长城。寒沙连骑迹，朔吹断边声。胡尘清玉塞，羌笛韵金钲。绝漠干戈戢，车徒振原隰。都尉反龙堆，将军旋马邑。扬麾氛雾静，纪石功名立。荒裔一戎衣，灵台凯歌入。']\n"
     ]
    }
   ],
   "source": [
    "poem_only = []\n",
    "with open('data/poem.txt', 'r') as f:\n",
    "    for l in f.readlines():\n",
    "        p = l.split()[2:]\n",
    "        for i in range(len(p)):\n",
    "            p[i] = p[i] + '，' if i % 2 == 0 else p[i] + '。'\n",
    "        p = ''.join(p)\n",
    "        poem_only.append(p)\n",
    "print(poem_only[:2])"
   ]
  },
  {
   "cell_type": "code",
   "execution_count": 3,
   "metadata": {},
   "outputs": [
    {
     "name": "stdout",
     "output_type": "stream",
     "text": [
      "诗总数： 42974 \n",
      "诗平均长度： 71.38856052496858 \n",
      "诗最大长度： 15826 \n",
      "\n"
     ]
    }
   ],
   "source": [
    "print('诗总数：', len(poem_only), '\\n' \n",
    "      '诗平均长度：', np.average([len(p) for p in poem_only]), '\\n' \n",
    "      '诗最大长度：', np.max([len(p) for p in poem_only]), '\\n')"
   ]
  },
  {
   "cell_type": "code",
   "execution_count": 4,
   "metadata": {},
   "outputs": [
    {
     "name": "stdout",
     "output_type": "stream",
     "text": [
      "['秦川雄帝宅，函谷壮皇居。绮殿千寻起，离宫百雉馀。连薨遥接汉，飞观迥凌虚。云日隐层阙，风烟出绮疏。岩廊罢机务，崇文聊驻辇。玉匣启龙图，金绳披凤篆。韦编断仍续，缥帙舒还卷。对此乃淹留，欹案观坟典。移步出词林，停舆欣武宴。雕弓写明月，骏马疑流电。', '塞外悲风切，交河冰已结。瀚海百重波，阴山千里雪。迥戍危烽火，层峦引高节。悠悠卷旆旌，饮马出长城。寒沙连骑迹，朔吹断边声。胡尘清玉塞，羌笛韵金钲。绝漠干戈戢，车徒振原隰。都尉反龙堆，将军旋马邑。扬麾氛雾静，纪石功名立。荒裔一戎衣，灵台凯歌入。']\n"
     ]
    }
   ],
   "source": [
    "max_len = 120\n",
    "poem = [] # 最终用于训练的poem\n",
    "for p in poem_only:\n",
    "    if len(p) > max_len:\n",
    "        s = len(p.split('。')[0]) + 1 # 一句诗单位长度\n",
    "        c = s * (max_len // s) # 截取的诗长度\n",
    "        p = p[:c]\n",
    "        poem.append(p)\n",
    "    else:\n",
    "        poem.append(p)\n",
    "print(poem[:2])"
   ]
  },
  {
   "cell_type": "code",
   "execution_count": 5,
   "metadata": {},
   "outputs": [
    {
     "name": "stdout",
     "output_type": "stream",
     "text": [
      "字典长度： 5649\n"
     ]
    }
   ],
   "source": [
    "count = [['[', 1000], [']', 1000], ['@', 1000], ['_', 1000]] # [: <GO> ]: <EOS> @: <UNK> _: <PAD>\n",
    "counter = collections.Counter(''.join(poem)).items()\n",
    "count.extend(counter)\n",
    "vocab = [w for w, i in count if i > 2]\n",
    "int_word = {i: w for i, w in enumerate(vocab)}\n",
    "word_int = {w: i for i, w in enumerate(vocab)}\n",
    "vocab_size = len(int_word)\n",
    "print('字典长度：', vocab_size)\n",
    "# print(word_int)"
   ]
  },
  {
   "cell_type": "code",
   "execution_count": 6,
   "metadata": {},
   "outputs": [
    {
     "name": "stdout",
     "output_type": "stream",
     "text": [
      "[[0, 4, 5, 6, 7, 8, 9, 10, 11, 12, 13, 14, 15, 16, 17, 18, 19, 20, 9, 21, 22, 23, 24, 25, 15, 26, 27, 28, 29, 30, 9, 31, 32, 33, 34, 35, 15, 36, 37, 38, 39, 40, 9, 41, 42, 43, 16, 44, 15, 45, 46, 47, 48, 49, 9, 50, 51, 52, 53, 54, 15, 55, 56, 57, 58, 59, 9, 60, 61, 62, 63, 64, 15, 65, 66, 67, 68, 69, 9, 70, 71, 72, 73, 74, 15, 75, 76, 77, 78, 79, 9, 80, 81, 32, 82, 83, 15, 84, 85, 43, 86, 87, 9, 88, 89, 90, 91, 92, 15, 93, 94, 95, 96, 97, 9, 98, 99, 100, 101, 102, 15, 1]] \n",
      " input_sequence： 121.0\n"
     ]
    }
   ],
   "source": [
    "trans_poems =[]\n",
    "for p in poem:\n",
    "    trans_poem =[]  # translated poem to int\n",
    "    l = len(p)\n",
    "    p = '[' + p + ']'\n",
    "    if l < max_len:\n",
    "         p = p + '_' * (max_len - l)\n",
    "    for w in p:\n",
    "        trans_w = word_int.get(w, word_int['@'])\n",
    "        trans_poem.append(trans_w)\n",
    "    trans_poems.append(trans_poem)\n",
    "sequence_len = np.average([len(p) for p in trans_poems]) - 1\n",
    "print(trans_poems[:1][:], '\\n',\n",
    "      'input_sequence：', sequence_len)"
   ]
  },
  {
   "cell_type": "code",
   "execution_count": 21,
   "metadata": {},
   "outputs": [],
   "source": [
    "def get_batch(poems, batch_size, batch_num, epochs):\n",
    "    for i in range(batch_num * epochs):\n",
    "        n = i % batch_num\n",
    "        poems = np.asarray(poems).astype(np.int32)\n",
    "        batch = poems[n * batch_size: (n + 1) * batch_size][:]\n",
    "        yield batch"
   ]
  },
  {
   "cell_type": "code",
   "execution_count": 34,
   "metadata": {},
   "outputs": [
    {
     "name": "stdout",
     "output_type": "stream",
     "text": [
      "671\n"
     ]
    }
   ],
   "source": [
    "batch_size = 64\n",
    "epochs = 20\n",
    "batch_num = len(trans_poems) // batch_size\n",
    "batch = get_batch(trans_poems, batch_size, batch_num, epochs)\n",
    "print(batch_num)"
   ]
  },
  {
   "cell_type": "code",
   "execution_count": 9,
   "metadata": {},
   "outputs": [
    {
     "name": "stdout",
     "output_type": "stream",
     "text": [
      "122 \n",
      " [  0 103 104 105  41 106   9 107 108 109 110 111  15 112 113  23 114 115\n",
      "   9 116 117  18 118 119  15  33 120 121 122 123   9  39 124 125 126 127\n",
      "  15 128 128  74 129 130   9 131  99  43 132 133  15 134 135  26 136 137\n",
      "   9 138 139  67 140 141  15 142 143 144  55 103   9 145 146 147  60 148\n",
      "  15 149 150 151 152 153   9 154 155 156 157 158  15 159 160 161  58 162\n",
      "   9 163 164 165  99 166  15 167 168 169 170 171   9 172 173 174 175 176\n",
      "  15 177 178 179 180 181   9 182 183 184 185 186  15   1] \n",
      " 121 \n",
      " [  0 103 104 105  41 106   9 107 108 109 110 111  15 112 113  23 114 115\n",
      "   9 116 117  18 118 119  15  33 120 121 122 123   9  39 124 125 126 127\n",
      "  15 128 128  74 129 130   9 131  99  43 132 133  15 134 135  26 136 137\n",
      "   9 138 139  67 140 141  15 142 143 144  55 103   9 145 146 147  60 148\n",
      "  15 149 150 151 152 153   9 154 155 156 157 158  15 159 160 161  58 162\n",
      "   9 163 164 165  99 166  15 167 168 169 170 171   9 172 173 174 175 176\n",
      "  15 177 178 179 180 181   9 182 183 184 185 186  15] \n",
      " 121 \n",
      " [103 104 105  41 106   9 107 108 109 110 111  15 112 113  23 114 115   9\n",
      " 116 117  18 118 119  15  33 120 121 122 123   9  39 124 125 126 127  15\n",
      " 128 128  74 129 130   9 131  99  43 132 133  15 134 135  26 136 137   9\n",
      " 138 139  67 140 141  15 142 143 144  55 103   9 145 146 147  60 148  15\n",
      " 149 150 151 152 153   9 154 155 156 157 158  15 159 160 161  58 162   9\n",
      " 163 164 165  99 166  15 167 168 169 170 171   9 172 173 174 175 176  15\n",
      " 177 178 179 180 181   9 182 183 184 185 186  15   1]\n"
     ]
    }
   ],
   "source": [
    "b = batch.__next__()\n",
    "X, Y = [], []\n",
    "for i in b:\n",
    "    X.append(i[:-1])\n",
    "    Y.append(i[1:])\n",
    "print(len(b[1][:]), '\\n', b[1][:], '\\n',\n",
    "      len(X[1][:]), '\\n', X[1][:], '\\n',\n",
    "      len(Y[1][:]), '\\n', Y[1][:])"
   ]
  },
  {
   "cell_type": "code",
   "execution_count": 10,
   "metadata": {},
   "outputs": [],
   "source": [
    "getX = tf.placeholder(tf.int32, shape=[None, 121])\n",
    "getY = tf.placeholder(tf.int32, shape=[None, 121])"
   ]
  },
  {
   "cell_type": "code",
   "execution_count": 28,
   "metadata": {},
   "outputs": [],
   "source": [
    "embed_size = 100\n",
    "rnn_cell_num = 3\n",
    "rnn_cell_size = 128\n",
    "num_noise = 10\n",
    "learning_rate = 0.000001"
   ]
  },
  {
   "cell_type": "code",
   "execution_count": 12,
   "metadata": {},
   "outputs": [],
   "source": [
    "with tf.variable_scope('embedding', reuse=tf.AUTO_REUSE):\n",
    "    embedding_matrix = tf.get_variable('embedding_matrix', shape=[vocab_size, embed_size],\n",
    "                                       initializer=tf.random_uniform_initializer(-1, 1, seed=123))\n",
    "    embedding = tf.nn.embedding_lookup(embedding_matrix, getX)\n",
    "with tf.variable_scope('rnn', reuse=tf.AUTO_REUSE):\n",
    "    lstms = tf.contrib.rnn.MultiRNNCell(\n",
    "        [tf.contrib.rnn.LSTMCell(rnn_cell_size, tf.random_uniform_initializer(-1, 1, seed=456)) \n",
    "         for _ in range(rnn_cell_num)])\n",
    "    outputs, states = tf.nn.dynamic_rnn(lstms, embedding, dtype=tf.float32)\n",
    "with tf.variable_scope('NCE', reuse=tf.AUTO_REUSE):\n",
    "    nce_w = tf.get_variable('nce_w', shape=[vocab_size, rnn_cell_size], \n",
    "                       initializer=tf.random_uniform_initializer(-1, 1, seed=234))\n",
    "    nce_b = tf.get_variable('nce_b', shape=[vocab_size], \n",
    "                       initializer=tf.zeros_initializer())\n",
    "    _getY = tf.reshape(getY, [-1, 1])\n",
    "    _outputs = tf.reshape(outputs, [-1, rnn_cell_size])\n",
    "    loss = tf.reduce_mean(\n",
    "        tf.nn.nce_loss(nce_w, nce_b, inputs=_outputs, labels=_getY, num_sampled=num_noise, num_classes=vocab_size))\n",
    "with tf.variable_scope('train_op', reuse=tf.AUTO_REUSE):\n",
    "    optimizer = tf.train.AdamOptimizer(learning_rate)\n",
    "    tvars = tf.trainable_variables()\n",
    "    grads, _ = tf.clip_by_global_norm(tf.gradients(loss, tvars), 5)\n",
    "    global_step = tf.Variable(0, trainable=False, name='global_step', dtype=tf.int32)\n",
    "    train_op = optimizer.apply_gradients(zip(grads, tvars), global_step=global_step)"
   ]
  },
  {
   "cell_type": "code",
   "execution_count": 13,
   "metadata": {},
   "outputs": [],
   "source": [
    "tf.summary.histogram('embed', embedding_matrix)\n",
    "tf.summary.histogram('rnn_cell_state', states)\n",
    "tf.summary.histogram('nce_w', nce_w)\n",
    "tf.summary.histogram('nce_b', nce_b)\n",
    "tf.summary.scalar('loss', loss)\n",
    "merged_summary_op = tf.summary.merge_all()"
   ]
  },
  {
   "cell_type": "code",
   "execution_count": 35,
   "metadata": {},
   "outputs": [
    {
     "name": "stdout",
     "output_type": "stream",
     "text": [
      "INFO:tensorflow:Restoring parameters from ./checkpoints/poem-1700\n",
      "Restored:  ./checkpoints/poem-1700\n",
      "Epoch 0 Batch 0 Iter 0 Loss 25.001008987426758\n",
      "Epoch 0 Batch 1 Iter 1 Loss 20.115055084228516\n",
      "Epoch 0 Batch 2 Iter 2 Loss 8.75159740447998\n",
      "Epoch 0 Batch 3 Iter 3 Loss 14.67435073852539\n",
      "Epoch 0 Batch 4 Iter 4 Loss 21.16809844970703\n",
      "Epoch 0 Batch 5 Iter 5 Loss 31.040552139282227\n",
      "Epoch 0 Batch 6 Iter 6 Loss 27.091073989868164\n",
      "Epoch 0 Batch 7 Iter 7 Loss 14.065450668334961\n",
      "Epoch 0 Batch 8 Iter 8 Loss 2.7014739513397217\n",
      "Epoch 0 Batch 9 Iter 9 Loss 33.217594146728516\n",
      "Epoch 0 Batch 10 Iter 10 Loss 12.829815864562988\n",
      "Epoch 0 Batch 11 Iter 11 Loss 36.410789489746094\n",
      "Epoch 0 Batch 12 Iter 12 Loss 15.65182113647461\n",
      "Epoch 0 Batch 13 Iter 13 Loss 35.03383255004883\n",
      "Epoch 0 Batch 14 Iter 14 Loss 9.131487846374512\n",
      "Epoch 0 Batch 15 Iter 15 Loss 14.055779457092285\n",
      "Epoch 0 Batch 16 Iter 16 Loss 11.477347373962402\n",
      "Epoch 0 Batch 17 Iter 17 Loss 29.25791358947754\n",
      "Epoch 0 Batch 18 Iter 18 Loss 25.926746368408203\n",
      "Epoch 0 Batch 19 Iter 19 Loss 25.645479202270508\n",
      "Epoch 0 Batch 20 Iter 20 Loss 19.79905891418457\n",
      "Epoch 0 Batch 21 Iter 21 Loss 14.0181245803833\n",
      "Epoch 0 Batch 22 Iter 22 Loss 21.415773391723633\n",
      "Epoch 0 Batch 23 Iter 23 Loss 17.08854866027832\n",
      "Epoch 0 Batch 24 Iter 24 Loss 29.027097702026367\n",
      "Epoch 0 Batch 25 Iter 25 Loss 18.091428756713867\n",
      "Epoch 0 Batch 26 Iter 26 Loss 5.194242000579834\n",
      "Epoch 0 Batch 27 Iter 27 Loss 28.88665008544922\n",
      "Epoch 0 Batch 28 Iter 28 Loss 4.9266815185546875\n",
      "Epoch 0 Batch 29 Iter 29 Loss 14.04187297821045\n",
      "Epoch 0 Batch 30 Iter 30 Loss 21.60527992248535\n",
      "Epoch 0 Batch 31 Iter 31 Loss 8.665411949157715\n",
      "Epoch 0 Batch 32 Iter 32 Loss 27.04363250732422\n",
      "Epoch 0 Batch 33 Iter 33 Loss 47.238853454589844\n",
      "Epoch 0 Batch 34 Iter 34 Loss 38.179222106933594\n",
      "Epoch 0 Batch 35 Iter 35 Loss 19.2658748626709\n",
      "Epoch 0 Batch 36 Iter 36 Loss 27.33788299560547\n",
      "Epoch 0 Batch 37 Iter 37 Loss 23.725065231323242\n",
      "Epoch 0 Batch 38 Iter 38 Loss 2.669902801513672\n",
      "Epoch 0 Batch 39 Iter 39 Loss 20.96773338317871\n",
      "Epoch 0 Batch 40 Iter 40 Loss 34.591007232666016\n",
      "Epoch 0 Batch 41 Iter 41 Loss 10.468781471252441\n",
      "Epoch 0 Batch 42 Iter 42 Loss 20.62105941772461\n",
      "Epoch 0 Batch 43 Iter 43 Loss 21.077335357666016\n",
      "Epoch 0 Batch 44 Iter 44 Loss 8.15659236907959\n",
      "Epoch 0 Batch 45 Iter 45 Loss 40.48861312866211\n",
      "Epoch 0 Batch 46 Iter 46 Loss 16.556468963623047\n",
      "Epoch 0 Batch 47 Iter 47 Loss 20.144853591918945\n",
      "Epoch 0 Batch 48 Iter 48 Loss 14.041938781738281\n",
      "Epoch 0 Batch 49 Iter 49 Loss 16.05193328857422\n",
      "Epoch 0 Batch 50 Iter 50 Loss 28.930072784423828\n",
      "Epoch 0 Batch 51 Iter 51 Loss 28.64415168762207\n",
      "Epoch 0 Batch 52 Iter 52 Loss 14.48520278930664\n",
      "Epoch 0 Batch 53 Iter 53 Loss 9.141670227050781\n",
      "Epoch 0 Batch 54 Iter 54 Loss 21.2860164642334\n",
      "Epoch 0 Batch 55 Iter 55 Loss 23.61787223815918\n",
      "Epoch 0 Batch 56 Iter 56 Loss 3.3548977375030518\n",
      "Epoch 0 Batch 57 Iter 57 Loss 34.74315643310547\n",
      "Epoch 0 Batch 58 Iter 58 Loss 15.489326477050781\n",
      "Epoch 0 Batch 59 Iter 59 Loss 14.420246124267578\n",
      "Epoch 0 Batch 60 Iter 60 Loss 16.63174057006836\n",
      "Epoch 0 Batch 61 Iter 61 Loss 18.19692611694336\n",
      "Epoch 0 Batch 62 Iter 62 Loss 25.40381622314453\n",
      "Epoch 0 Batch 63 Iter 63 Loss 40.42416763305664\n",
      "Epoch 0 Batch 64 Iter 64 Loss 26.538284301757812\n",
      "Epoch 0 Batch 65 Iter 65 Loss 14.911602973937988\n",
      "Epoch 0 Batch 66 Iter 66 Loss 22.75910758972168\n",
      "Epoch 0 Batch 67 Iter 67 Loss 30.467193603515625\n",
      "Epoch 0 Batch 68 Iter 68 Loss 15.930941581726074\n",
      "Epoch 0 Batch 69 Iter 69 Loss 16.998849868774414\n",
      "Epoch 0 Batch 70 Iter 70 Loss 22.95613670349121\n",
      "Epoch 0 Batch 71 Iter 71 Loss 4.482123851776123\n",
      "Epoch 0 Batch 72 Iter 72 Loss 24.353599548339844\n",
      "Epoch 0 Batch 73 Iter 73 Loss 15.90269947052002\n",
      "Epoch 0 Batch 74 Iter 74 Loss 26.048023223876953\n",
      "Epoch 0 Batch 75 Iter 75 Loss 23.526750564575195\n",
      "Epoch 0 Batch 76 Iter 76 Loss 8.214620590209961\n",
      "Epoch 0 Batch 77 Iter 77 Loss 13.010812759399414\n",
      "Epoch 0 Batch 78 Iter 78 Loss 20.760028839111328\n",
      "Epoch 0 Batch 79 Iter 79 Loss 17.7994441986084\n",
      "Epoch 0 Batch 80 Iter 80 Loss 25.74790382385254\n",
      "Epoch 0 Batch 81 Iter 81 Loss 7.10051155090332\n",
      "Epoch 0 Batch 82 Iter 82 Loss 28.495410919189453\n",
      "Epoch 0 Batch 83 Iter 83 Loss 8.93762493133545\n",
      "Epoch 0 Batch 84 Iter 84 Loss 30.985166549682617\n",
      "Epoch 0 Batch 85 Iter 85 Loss 43.19034194946289\n",
      "Epoch 0 Batch 86 Iter 86 Loss 15.703551292419434\n",
      "Epoch 0 Batch 87 Iter 87 Loss 25.41921615600586\n",
      "Epoch 0 Batch 88 Iter 88 Loss 9.515015602111816\n",
      "Epoch 0 Batch 89 Iter 89 Loss 10.87891674041748\n",
      "Epoch 0 Batch 90 Iter 90 Loss 19.63643455505371\n",
      "Epoch 0 Batch 91 Iter 91 Loss 27.14687156677246\n",
      "Epoch 0 Batch 92 Iter 92 Loss 36.70964050292969\n",
      "Epoch 0 Batch 93 Iter 93 Loss 20.870141983032227\n",
      "Epoch 0 Batch 94 Iter 94 Loss 17.32014274597168\n",
      "Epoch 0 Batch 95 Iter 95 Loss 21.867918014526367\n",
      "Epoch 0 Batch 96 Iter 96 Loss 21.24164390563965\n",
      "Epoch 0 Batch 97 Iter 97 Loss 13.404749870300293\n",
      "Epoch 0 Batch 98 Iter 98 Loss 30.973817825317383\n",
      "Epoch 0 Batch 99 Iter 99 Loss 20.589998245239258\n",
      "Epoch 0 Batch 100 Iter 100 Loss 17.833484649658203\n",
      "Epoch 0 Batch 101 Iter 101 Loss 10.524307250976562\n",
      "Epoch 0 Batch 102 Iter 102 Loss 26.00843048095703\n",
      "Epoch 0 Batch 103 Iter 103 Loss 1.6879441738128662\n",
      "Epoch 0 Batch 104 Iter 104 Loss 23.188465118408203\n",
      "Epoch 0 Batch 105 Iter 105 Loss 34.755828857421875\n",
      "Epoch 0 Batch 106 Iter 106 Loss 14.273183822631836\n",
      "Epoch 0 Batch 107 Iter 107 Loss 25.28317642211914\n",
      "Epoch 0 Batch 108 Iter 108 Loss 11.527716636657715\n",
      "Epoch 0 Batch 109 Iter 109 Loss 16.393911361694336\n",
      "Epoch 0 Batch 110 Iter 110 Loss 24.678302764892578\n",
      "Epoch 0 Batch 111 Iter 111 Loss 16.473417282104492\n",
      "Epoch 0 Batch 112 Iter 112 Loss 16.779691696166992\n",
      "Epoch 0 Batch 113 Iter 113 Loss 10.080503463745117\n",
      "Epoch 0 Batch 114 Iter 114 Loss 30.886581420898438\n",
      "Epoch 0 Batch 115 Iter 115 Loss 34.75220489501953\n",
      "Epoch 0 Batch 116 Iter 116 Loss 27.88780403137207\n",
      "Epoch 0 Batch 117 Iter 117 Loss 12.060809135437012\n",
      "Epoch 0 Batch 118 Iter 118 Loss 29.932689666748047\n",
      "Epoch 0 Batch 119 Iter 119 Loss 14.462713241577148\n",
      "Epoch 0 Batch 120 Iter 120 Loss 25.82982063293457\n",
      "Epoch 0 Batch 121 Iter 121 Loss 16.873260498046875\n",
      "Epoch 0 Batch 122 Iter 122 Loss 20.486114501953125\n",
      "Epoch 0 Batch 123 Iter 123 Loss 25.644838333129883\n",
      "Epoch 0 Batch 124 Iter 124 Loss 29.39109230041504\n",
      "Epoch 0 Batch 125 Iter 125 Loss 19.66968536376953\n",
      "Epoch 0 Batch 126 Iter 126 Loss 8.178645133972168\n",
      "Epoch 0 Batch 127 Iter 127 Loss 9.570818901062012\n",
      "Epoch 0 Batch 128 Iter 128 Loss 9.39671802520752\n",
      "Epoch 0 Batch 129 Iter 129 Loss 19.83342170715332\n",
      "Epoch 0 Batch 130 Iter 130 Loss 20.689830780029297\n",
      "Epoch 0 Batch 131 Iter 131 Loss 20.639450073242188\n",
      "Epoch 0 Batch 132 Iter 132 Loss 16.74162483215332\n",
      "Epoch 0 Batch 133 Iter 133 Loss 7.349695205688477\n",
      "Epoch 0 Batch 134 Iter 134 Loss 49.43587875366211\n",
      "Epoch 0 Batch 135 Iter 135 Loss 25.83354949951172\n",
      "Epoch 0 Batch 136 Iter 136 Loss 3.4937639236450195\n",
      "Epoch 0 Batch 137 Iter 137 Loss 29.876432418823242\n",
      "Epoch 0 Batch 138 Iter 138 Loss 17.963708877563477\n",
      "Epoch 0 Batch 139 Iter 139 Loss 14.838203430175781\n",
      "Epoch 0 Batch 140 Iter 140 Loss 5.021528720855713\n",
      "Epoch 0 Batch 141 Iter 141 Loss 10.934441566467285\n",
      "Epoch 0 Batch 142 Iter 142 Loss 25.052406311035156\n",
      "Epoch 0 Batch 143 Iter 143 Loss 19.78534507751465\n",
      "Epoch 0 Batch 144 Iter 144 Loss 14.52549934387207\n",
      "Epoch 0 Batch 145 Iter 145 Loss 18.806257247924805\n",
      "Epoch 0 Batch 146 Iter 146 Loss 20.168394088745117\n",
      "Epoch 0 Batch 147 Iter 147 Loss 20.024255752563477\n",
      "Epoch 0 Batch 148 Iter 148 Loss 30.683408737182617\n",
      "Epoch 0 Batch 149 Iter 149 Loss 26.660356521606445\n",
      "Epoch 0 Batch 150 Iter 150 Loss 15.62711238861084\n",
      "Epoch 0 Batch 151 Iter 151 Loss 10.938030242919922\n",
      "Epoch 0 Batch 152 Iter 152 Loss 6.865241527557373\n",
      "Epoch 0 Batch 153 Iter 153 Loss 31.162551879882812\n",
      "Epoch 0 Batch 154 Iter 154 Loss 17.790603637695312\n",
      "Epoch 0 Batch 155 Iter 155 Loss 17.28048324584961\n",
      "Epoch 0 Batch 156 Iter 156 Loss 12.336488723754883\n",
      "Epoch 0 Batch 157 Iter 157 Loss 11.468395233154297\n",
      "Epoch 0 Batch 158 Iter 158 Loss 1.418745756149292\n",
      "Epoch 0 Batch 159 Iter 159 Loss 28.090608596801758\n",
      "Epoch 0 Batch 160 Iter 160 Loss 13.672225952148438\n",
      "Epoch 0 Batch 161 Iter 161 Loss 48.895111083984375\n",
      "Epoch 0 Batch 162 Iter 162 Loss 18.10105323791504\n",
      "Epoch 0 Batch 163 Iter 163 Loss 24.588476181030273\n",
      "Epoch 0 Batch 164 Iter 164 Loss 14.227456092834473\n"
     ]
    },
    {
     "name": "stdout",
     "output_type": "stream",
     "text": [
      "Epoch 0 Batch 165 Iter 165 Loss 31.906679153442383\n",
      "Epoch 0 Batch 166 Iter 166 Loss 20.083742141723633\n",
      "Epoch 0 Batch 167 Iter 167 Loss 27.2928409576416\n",
      "Epoch 0 Batch 168 Iter 168 Loss 31.969839096069336\n",
      "Epoch 0 Batch 169 Iter 169 Loss 26.21174430847168\n",
      "Epoch 0 Batch 170 Iter 170 Loss 21.239459991455078\n",
      "Epoch 0 Batch 171 Iter 171 Loss 14.663291931152344\n",
      "Epoch 0 Batch 172 Iter 172 Loss 35.607696533203125\n",
      "Epoch 0 Batch 173 Iter 173 Loss 42.56938171386719\n",
      "Epoch 0 Batch 174 Iter 174 Loss 27.48258399963379\n",
      "Epoch 0 Batch 175 Iter 175 Loss 14.284621238708496\n",
      "Epoch 0 Batch 176 Iter 176 Loss 13.989116668701172\n",
      "Epoch 0 Batch 177 Iter 177 Loss 24.341188430786133\n",
      "Epoch 0 Batch 178 Iter 178 Loss 11.03585147857666\n",
      "Epoch 0 Batch 179 Iter 179 Loss 20.52516746520996\n",
      "Epoch 0 Batch 180 Iter 180 Loss 31.286291122436523\n",
      "Epoch 0 Batch 181 Iter 181 Loss 15.603459358215332\n",
      "Epoch 0 Batch 182 Iter 182 Loss 26.197765350341797\n",
      "Epoch 0 Batch 183 Iter 183 Loss 19.722183227539062\n",
      "Epoch 0 Batch 184 Iter 184 Loss 7.852156639099121\n",
      "Epoch 0 Batch 185 Iter 185 Loss 10.701952934265137\n",
      "Epoch 0 Batch 186 Iter 186 Loss 37.912845611572266\n",
      "Epoch 0 Batch 187 Iter 187 Loss 12.82456111907959\n",
      "Epoch 0 Batch 188 Iter 188 Loss 27.157621383666992\n",
      "Epoch 0 Batch 189 Iter 189 Loss 20.36697006225586\n",
      "Epoch 0 Batch 190 Iter 190 Loss 26.257022857666016\n",
      "Epoch 0 Batch 191 Iter 191 Loss 27.328388214111328\n",
      "Epoch 0 Batch 192 Iter 192 Loss 3.3713598251342773\n",
      "Epoch 0 Batch 193 Iter 193 Loss 12.506343841552734\n",
      "Epoch 0 Batch 194 Iter 194 Loss 11.327006340026855\n",
      "Epoch 0 Batch 195 Iter 195 Loss 7.441430568695068\n",
      "Epoch 0 Batch 196 Iter 196 Loss 30.505189895629883\n",
      "Epoch 0 Batch 197 Iter 197 Loss 14.540349960327148\n"
     ]
    },
    {
     "ename": "KeyboardInterrupt",
     "evalue": "",
     "output_type": "error",
     "traceback": [
      "\u001b[0;31m---------------------------------------------------------------------------\u001b[0m",
      "\u001b[0;31mKeyboardInterrupt\u001b[0m                         Traceback (most recent call last)",
      "\u001b[0;32m<ipython-input-35-6c885193219f>\u001b[0m in \u001b[0;36m<module>\u001b[0;34m()\u001b[0m\n\u001b[1;32m     15\u001b[0m                 \u001b[0mY\u001b[0m\u001b[0;34m.\u001b[0m\u001b[0mappend\u001b[0m\u001b[0;34m(\u001b[0m\u001b[0mj\u001b[0m\u001b[0;34m[\u001b[0m\u001b[0;36m1\u001b[0m\u001b[0;34m:\u001b[0m\u001b[0;34m]\u001b[0m\u001b[0;34m)\u001b[0m\u001b[0;34m\u001b[0m\u001b[0m\n\u001b[1;32m     16\u001b[0m             _, cost, summary, g_step = sess.run([train_op, loss, merged_summary_op, global_step],\n\u001b[0;32m---> 17\u001b[0;31m                                                  feed_dict={getX: X, getY: Y})\n\u001b[0m\u001b[1;32m     18\u001b[0m             \u001b[0mprint\u001b[0m\u001b[0;34m(\u001b[0m\u001b[0;34m'Epoch {} Batch {} Iter {} Loss {}'\u001b[0m\u001b[0;34m.\u001b[0m\u001b[0mformat\u001b[0m\u001b[0;34m(\u001b[0m\u001b[0me\u001b[0m\u001b[0;34m,\u001b[0m \u001b[0mi\u001b[0m\u001b[0;34m,\u001b[0m \u001b[0me\u001b[0m\u001b[0;34m*\u001b[0m\u001b[0mbatch_num\u001b[0m \u001b[0;34m+\u001b[0m \u001b[0mi\u001b[0m\u001b[0;34m,\u001b[0m \u001b[0mcost\u001b[0m\u001b[0;34m)\u001b[0m\u001b[0;34m)\u001b[0m\u001b[0;34m\u001b[0m\u001b[0m\n\u001b[1;32m     19\u001b[0m             \u001b[0msummary_writer\u001b[0m\u001b[0;34m.\u001b[0m\u001b[0madd_summary\u001b[0m\u001b[0;34m(\u001b[0m\u001b[0msummary\u001b[0m\u001b[0;34m,\u001b[0m \u001b[0mg_step\u001b[0m\u001b[0;34m)\u001b[0m\u001b[0;34m\u001b[0m\u001b[0m\n",
      "\u001b[0;32m/Library/Frameworks/Python.framework/Versions/3.6/lib/python3.6/site-packages/tensorflow/python/client/session.py\u001b[0m in \u001b[0;36mrun\u001b[0;34m(self, fetches, feed_dict, options, run_metadata)\u001b[0m\n\u001b[1;32m    903\u001b[0m     \u001b[0;32mtry\u001b[0m\u001b[0;34m:\u001b[0m\u001b[0;34m\u001b[0m\u001b[0m\n\u001b[1;32m    904\u001b[0m       result = self._run(None, fetches, feed_dict, options_ptr,\n\u001b[0;32m--> 905\u001b[0;31m                          run_metadata_ptr)\n\u001b[0m\u001b[1;32m    906\u001b[0m       \u001b[0;32mif\u001b[0m \u001b[0mrun_metadata\u001b[0m\u001b[0;34m:\u001b[0m\u001b[0;34m\u001b[0m\u001b[0m\n\u001b[1;32m    907\u001b[0m         \u001b[0mproto_data\u001b[0m \u001b[0;34m=\u001b[0m \u001b[0mtf_session\u001b[0m\u001b[0;34m.\u001b[0m\u001b[0mTF_GetBuffer\u001b[0m\u001b[0;34m(\u001b[0m\u001b[0mrun_metadata_ptr\u001b[0m\u001b[0;34m)\u001b[0m\u001b[0;34m\u001b[0m\u001b[0m\n",
      "\u001b[0;32m/Library/Frameworks/Python.framework/Versions/3.6/lib/python3.6/site-packages/tensorflow/python/client/session.py\u001b[0m in \u001b[0;36m_run\u001b[0;34m(self, handle, fetches, feed_dict, options, run_metadata)\u001b[0m\n\u001b[1;32m   1135\u001b[0m     \u001b[0;32mif\u001b[0m \u001b[0mfinal_fetches\u001b[0m \u001b[0;32mor\u001b[0m \u001b[0mfinal_targets\u001b[0m \u001b[0;32mor\u001b[0m \u001b[0;34m(\u001b[0m\u001b[0mhandle\u001b[0m \u001b[0;32mand\u001b[0m \u001b[0mfeed_dict_tensor\u001b[0m\u001b[0;34m)\u001b[0m\u001b[0;34m:\u001b[0m\u001b[0;34m\u001b[0m\u001b[0m\n\u001b[1;32m   1136\u001b[0m       results = self._do_run(handle, final_targets, final_fetches,\n\u001b[0;32m-> 1137\u001b[0;31m                              feed_dict_tensor, options, run_metadata)\n\u001b[0m\u001b[1;32m   1138\u001b[0m     \u001b[0;32melse\u001b[0m\u001b[0;34m:\u001b[0m\u001b[0;34m\u001b[0m\u001b[0m\n\u001b[1;32m   1139\u001b[0m       \u001b[0mresults\u001b[0m \u001b[0;34m=\u001b[0m \u001b[0;34m[\u001b[0m\u001b[0;34m]\u001b[0m\u001b[0;34m\u001b[0m\u001b[0m\n",
      "\u001b[0;32m/Library/Frameworks/Python.framework/Versions/3.6/lib/python3.6/site-packages/tensorflow/python/client/session.py\u001b[0m in \u001b[0;36m_do_run\u001b[0;34m(self, handle, target_list, fetch_list, feed_dict, options, run_metadata)\u001b[0m\n\u001b[1;32m   1353\u001b[0m     \u001b[0;32mif\u001b[0m \u001b[0mhandle\u001b[0m \u001b[0;32mis\u001b[0m \u001b[0;32mNone\u001b[0m\u001b[0;34m:\u001b[0m\u001b[0;34m\u001b[0m\u001b[0m\n\u001b[1;32m   1354\u001b[0m       return self._do_call(_run_fn, self._session, feeds, fetches, targets,\n\u001b[0;32m-> 1355\u001b[0;31m                            options, run_metadata)\n\u001b[0m\u001b[1;32m   1356\u001b[0m     \u001b[0;32melse\u001b[0m\u001b[0;34m:\u001b[0m\u001b[0;34m\u001b[0m\u001b[0m\n\u001b[1;32m   1357\u001b[0m       \u001b[0;32mreturn\u001b[0m \u001b[0mself\u001b[0m\u001b[0;34m.\u001b[0m\u001b[0m_do_call\u001b[0m\u001b[0;34m(\u001b[0m\u001b[0m_prun_fn\u001b[0m\u001b[0;34m,\u001b[0m \u001b[0mself\u001b[0m\u001b[0;34m.\u001b[0m\u001b[0m_session\u001b[0m\u001b[0;34m,\u001b[0m \u001b[0mhandle\u001b[0m\u001b[0;34m,\u001b[0m \u001b[0mfeeds\u001b[0m\u001b[0;34m,\u001b[0m \u001b[0mfetches\u001b[0m\u001b[0;34m)\u001b[0m\u001b[0;34m\u001b[0m\u001b[0m\n",
      "\u001b[0;32m/Library/Frameworks/Python.framework/Versions/3.6/lib/python3.6/site-packages/tensorflow/python/client/session.py\u001b[0m in \u001b[0;36m_do_call\u001b[0;34m(self, fn, *args)\u001b[0m\n\u001b[1;32m   1359\u001b[0m   \u001b[0;32mdef\u001b[0m \u001b[0m_do_call\u001b[0m\u001b[0;34m(\u001b[0m\u001b[0mself\u001b[0m\u001b[0;34m,\u001b[0m \u001b[0mfn\u001b[0m\u001b[0;34m,\u001b[0m \u001b[0;34m*\u001b[0m\u001b[0margs\u001b[0m\u001b[0;34m)\u001b[0m\u001b[0;34m:\u001b[0m\u001b[0;34m\u001b[0m\u001b[0m\n\u001b[1;32m   1360\u001b[0m     \u001b[0;32mtry\u001b[0m\u001b[0;34m:\u001b[0m\u001b[0;34m\u001b[0m\u001b[0m\n\u001b[0;32m-> 1361\u001b[0;31m       \u001b[0;32mreturn\u001b[0m \u001b[0mfn\u001b[0m\u001b[0;34m(\u001b[0m\u001b[0;34m*\u001b[0m\u001b[0margs\u001b[0m\u001b[0;34m)\u001b[0m\u001b[0;34m\u001b[0m\u001b[0m\n\u001b[0m\u001b[1;32m   1362\u001b[0m     \u001b[0;32mexcept\u001b[0m \u001b[0merrors\u001b[0m\u001b[0;34m.\u001b[0m\u001b[0mOpError\u001b[0m \u001b[0;32mas\u001b[0m \u001b[0me\u001b[0m\u001b[0;34m:\u001b[0m\u001b[0;34m\u001b[0m\u001b[0m\n\u001b[1;32m   1363\u001b[0m       \u001b[0mmessage\u001b[0m \u001b[0;34m=\u001b[0m \u001b[0mcompat\u001b[0m\u001b[0;34m.\u001b[0m\u001b[0mas_text\u001b[0m\u001b[0;34m(\u001b[0m\u001b[0me\u001b[0m\u001b[0;34m.\u001b[0m\u001b[0mmessage\u001b[0m\u001b[0;34m)\u001b[0m\u001b[0;34m\u001b[0m\u001b[0m\n",
      "\u001b[0;32m/Library/Frameworks/Python.framework/Versions/3.6/lib/python3.6/site-packages/tensorflow/python/client/session.py\u001b[0m in \u001b[0;36m_run_fn\u001b[0;34m(session, feed_dict, fetch_list, target_list, options, run_metadata)\u001b[0m\n\u001b[1;32m   1338\u001b[0m         \u001b[0;32melse\u001b[0m\u001b[0;34m:\u001b[0m\u001b[0;34m\u001b[0m\u001b[0m\n\u001b[1;32m   1339\u001b[0m           return tf_session.TF_Run(session, options, feed_dict, fetch_list,\n\u001b[0;32m-> 1340\u001b[0;31m                                    target_list, status, run_metadata)\n\u001b[0m\u001b[1;32m   1341\u001b[0m \u001b[0;34m\u001b[0m\u001b[0m\n\u001b[1;32m   1342\u001b[0m     \u001b[0;32mdef\u001b[0m \u001b[0m_prun_fn\u001b[0m\u001b[0;34m(\u001b[0m\u001b[0msession\u001b[0m\u001b[0;34m,\u001b[0m \u001b[0mhandle\u001b[0m\u001b[0;34m,\u001b[0m \u001b[0mfeed_dict\u001b[0m\u001b[0;34m,\u001b[0m \u001b[0mfetch_list\u001b[0m\u001b[0;34m)\u001b[0m\u001b[0;34m:\u001b[0m\u001b[0;34m\u001b[0m\u001b[0m\n",
      "\u001b[0;31mKeyboardInterrupt\u001b[0m: "
     ]
    }
   ],
   "source": [
    "with tf.Session() as sess:\n",
    "    sess.run(tf.global_variables_initializer())\n",
    "    summary_writer = tf.summary.FileWriter('./logs/', sess.graph)\n",
    "    saver = tf.train.Saver()\n",
    "    checkpoint = tf.train.get_checkpoint_state('./checkpoints/')\n",
    "    if checkpoint and checkpoint.model_checkpoint_path:\n",
    "        saver.restore(sess, checkpoint.model_checkpoint_path)\n",
    "        print('Restored: ', checkpoint.model_checkpoint_path)\n",
    "    for e in range(epochs):\n",
    "        for i in range(batch_num):\n",
    "            b = batch.__next__()\n",
    "            X, Y = [], []\n",
    "            for j in b:\n",
    "                X.append(j[:-1])\n",
    "                Y.append(j[1:])\n",
    "            _, cost, summary, g_step = sess.run([train_op, loss, merged_summary_op, global_step],\n",
    "                                                 feed_dict={getX: X, getY: Y})\n",
    "            print('Epoch {} Batch {} Iter {} Loss {}'.format(e, i, e*batch_num + i, cost))\n",
    "            summary_writer.add_summary(summary, g_step)\n",
    "            if g_step % 100 == 0:\n",
    "                saver.save(sess, './checkpoints/poem', global_step=g_step)\n",
    "    summary_writer.close()"
   ]
  },
  {
   "cell_type": "code",
   "execution_count": 37,
   "metadata": {},
   "outputs": [
    {
     "name": "stdout",
     "output_type": "stream",
     "text": [
      "Help on function shuffle_batch in module tensorflow.python.training.input:\n",
      "\n",
      "shuffle_batch(tensors, batch_size, capacity, min_after_dequeue, num_threads=1, seed=None, enqueue_many=False, shapes=None, allow_smaller_final_batch=False, shared_name=None, name=None)\n",
      "    Creates batches by randomly shuffling tensors.\n",
      "    \n",
      "    This function adds the following to the current `Graph`:\n",
      "    \n",
      "    * A shuffling queue into which tensors from `tensors` are enqueued.\n",
      "    * A `dequeue_many` operation to create batches from the queue.\n",
      "    * A `QueueRunner` to `QUEUE_RUNNER` collection, to enqueue the tensors\n",
      "      from `tensors`.\n",
      "    \n",
      "    If `enqueue_many` is `False`, `tensors` is assumed to represent a\n",
      "    single example.  An input tensor with shape `[x, y, z]` will be output\n",
      "    as a tensor with shape `[batch_size, x, y, z]`.\n",
      "    \n",
      "    If `enqueue_many` is `True`, `tensors` is assumed to represent a\n",
      "    batch of examples, where the first dimension is indexed by example,\n",
      "    and all members of `tensors` should have the same size in the\n",
      "    first dimension.  If an input tensor has shape `[*, x, y, z]`, the\n",
      "    output will have shape `[batch_size, x, y, z]`.\n",
      "    \n",
      "    The `capacity` argument controls the how long the prefetching is allowed to\n",
      "    grow the queues.\n",
      "    \n",
      "    The returned operation is a dequeue operation and will throw\n",
      "    `tf.errors.OutOfRangeError` if the input queue is exhausted. If this\n",
      "    operation is feeding another input queue, its queue runner will catch\n",
      "    this exception, however, if this operation is used in your main thread\n",
      "    you are responsible for catching this yourself.\n",
      "    \n",
      "    For example:\n",
      "    \n",
      "    ```python\n",
      "    # Creates batches of 32 images and 32 labels.\n",
      "    image_batch, label_batch = tf.train.shuffle_batch(\n",
      "          [single_image, single_label],\n",
      "          batch_size=32,\n",
      "          num_threads=4,\n",
      "          capacity=50000,\n",
      "          min_after_dequeue=10000)\n",
      "    ```\n",
      "    \n",
      "    *N.B.:* You must ensure that either (i) the `shapes` argument is\n",
      "    passed, or (ii) all of the tensors in `tensors` must have\n",
      "    fully-defined shapes. `ValueError` will be raised if neither of\n",
      "    these conditions holds.\n",
      "    \n",
      "    If `allow_smaller_final_batch` is `True`, a smaller batch value than\n",
      "    `batch_size` is returned when the queue is closed and there are not enough\n",
      "    elements to fill the batch, otherwise the pending elements are discarded.\n",
      "    In addition, all output tensors' static shapes, as accessed via the\n",
      "    `shape` property will have a first `Dimension` value of `None`, and\n",
      "    operations that depend on fixed batch_size would fail.\n",
      "    \n",
      "    Args:\n",
      "      tensors: The list or dictionary of tensors to enqueue.\n",
      "      batch_size: The new batch size pulled from the queue.\n",
      "      capacity: An integer. The maximum number of elements in the queue.\n",
      "      min_after_dequeue: Minimum number elements in the queue after a\n",
      "        dequeue, used to ensure a level of mixing of elements.\n",
      "      num_threads: The number of threads enqueuing `tensor_list`.\n",
      "      seed: Seed for the random shuffling within the queue.\n",
      "      enqueue_many: Whether each tensor in `tensor_list` is a single example.\n",
      "      shapes: (Optional) The shapes for each example.  Defaults to the\n",
      "        inferred shapes for `tensor_list`.\n",
      "      allow_smaller_final_batch: (Optional) Boolean. If `True`, allow the final\n",
      "        batch to be smaller if there are insufficient items left in the queue.\n",
      "      shared_name: (Optional) If set, this queue will be shared under the given\n",
      "        name across multiple sessions.\n",
      "      name: (Optional) A name for the operations.\n",
      "    \n",
      "    Returns:\n",
      "      A list or dictionary of tensors with the types as `tensors`.\n",
      "    \n",
      "    Raises:\n",
      "      ValueError: If the `shapes` are not specified, and cannot be\n",
      "        inferred from the elements of `tensors`.\n",
      "    \n",
      "    @compatibility(eager)\n",
      "    Input pipelines based on Queues are not supported when eager execution is\n",
      "    enabled. Please use the `tf.data` API to ingest data under eager execution.\n",
      "    @end_compatibility\n",
      "\n"
     ]
    }
   ],
   "source": [
    "help(tf.train.shuffle_batch)"
   ]
  },
  {
   "cell_type": "code",
   "execution_count": null,
   "metadata": {},
   "outputs": [],
   "source": []
  }
 ],
 "metadata": {
  "kernelspec": {
   "display_name": "Python 3",
   "language": "python",
   "name": "python3"
  }
 },
 "nbformat": 4,
 "nbformat_minor": 2
}
